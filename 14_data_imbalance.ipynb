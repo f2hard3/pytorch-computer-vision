{
 "cells": [
  {
   "cell_type": "code",
   "execution_count": 35,
   "metadata": {},
   "outputs": [],
   "source": [
    "import torch\n",
    "import torch.nn as nn\n",
    "from torch.utils.data import DataLoader\n",
    "from torchvision import transforms\n",
    "import torchvision\n",
    "import numpy as np"
   ]
  },
  {
   "cell_type": "code",
   "execution_count": 29,
   "metadata": {},
   "outputs": [],
   "source": [
    "def make_weights_for_balanced_classes(imgs, nclasses):\n",
    "    labels = []\n",
    "    for i in range(len(imgs)):\n",
    "        labels.append(imgs[i][1])\n",
    "\n",
    "    label_array = np.array(labels)\n",
    "    total = len(labels)\n",
    "\n",
    "    count_list = []\n",
    "    for cls in range(nclasses):\n",
    "        count = len(np.where(label_array == cls)[0])\n",
    "        count_list.append(total/count)\n",
    "\n",
    "    weights = []\n",
    "    for label in label_array:\n",
    "        weights.append(count_list[label])\n",
    "\n",
    "    return weights"
   ]
  },
  {
   "cell_type": "code",
   "execution_count": 30,
   "metadata": {},
   "outputs": [],
   "source": [
    "transform = transforms.Compose([\n",
    "    transforms.ToPILImage(), \n",
    "    transforms.RandomCrop(60), \n",
    "    transforms.ColorJitter(brightness=0.1, contrast=0.1, saturation=0.1, hue=0.1),\n",
    "    transforms.RandomHorizontalFlip(),\n",
    "    transforms.RandomRotation(10, interpolation=transforms.InterpolationMode.BILINEAR),\n",
    "    transforms.ToTensor()\n",
    "])"
   ]
  },
  {
   "cell_type": "code",
   "execution_count": 33,
   "metadata": {},
   "outputs": [],
   "source": [
    "trainset = torchvision.datasets.ImageFolder(root='class', transform=transform)\n",
    "weights = make_weights_for_balanced_classes(trainset.imgs, len(trainset.classes))\n",
    "weights = torch.DoubleTensor(weights)\n",
    "sampler = torch.utils.data.sampler.WeightedRandomSampler(weights, len(weights))\n",
    "train_loader = DataLoader(trainset, batch_size=32, sampler=sampler)"
   ]
  },
  {
   "cell_type": "code",
   "execution_count": 36,
   "metadata": {},
   "outputs": [],
   "source": [
    "device = torch.device('cuda' if torch.cuda.is_available() else 'cpu')\n",
    "num_ins = [40, 45, 30, 62, 70, 153, 395, 46, 75, 194]\n",
    "weights = [1 - (x / sum(num_ins)) for x in num_ins]\n",
    "class_weights = torch.FloatTensor(weights).to(device)\n",
    "criterion = nn.CrossEntropyLoss(weight=class_weights)"
   ]
  },
  {
   "cell_type": "code",
   "execution_count": 37,
   "metadata": {},
   "outputs": [],
   "source": [
    "from sklearn.metrics import confusion_matrix\n",
    "import seaborn as sns\n",
    "from matplotlib import pyplot as plt"
   ]
  },
  {
   "cell_type": "code",
   "execution_count": 51,
   "metadata": {},
   "outputs": [
    {
     "data": {
      "image/png": "[encoded data removed]",
      "text/plain": [
       "<Figure size 800x600 with 2 Axes>"
      ]
     },
     "metadata": {},
     "output_type": "display_data"
    }
   ],
   "source": [
    "actual = [1,1,1,1,1,1,0,0,0,0,0,2,2,2,2,2]\n",
    "prediction = [1,1,1,0,1,1,0,0,0,1,0,2,2,2,1,1]\n",
    "c_mat = confusion_matrix(actual, prediction)\n",
    "\n",
    "plt.figure(figsize=(8, 6))\n",
    "sns.heatmap(c_mat, annot=True, fmt='d', cmap='Blues', linewidths=.5)\n",
    "b, t = plt.ylim()\n",
    "b += 0.5\n",
    "t -+ 0.5\n",
    "plt.ylim(b, t)\n",
    "plt.savefig('confusion_matrix.png')\n",
    "plt.show()"
   ]
  },
  {
   "cell_type": "code",
   "execution_count": null,
   "metadata": {},
   "outputs": [],
   "source": []
  }
 ],
 "metadata": {
  "kernelspec": {
   "display_name": "base",
   "language": "python",
   "name": "python3"
  },
  "language_info": {
   "codemirror_mode": {
    "name": "ipython",
    "version": 3
   },
   "file_extension": ".py",
   "mimetype": "text/x-python",
   "name": "python",
   "nbconvert_exporter": "python",
   "pygments_lexer": "ipython3",
   "version": "3.8.13"
  },
  "orig_nbformat": 4
 },
 "nbformat": 4,
 "nbformat_minor": 2
}
