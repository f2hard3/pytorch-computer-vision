{
 "cells": [
  {
   "cell_type": "code",
   "execution_count": 8,
   "metadata": {},
   "outputs": [],
   "source": [
    "import pandas as pd\n",
    "import numpy as np\n",
    "from sklearn.model_selection import train_test_split\n",
    "import torch\n",
    "import torchvision\n",
    "from torch import nn, optim\n",
    "from torch.utils.data import DataLoader, Dataset\n",
    "import torch.nn.functional as F\n",
    "from sklearn.metrics import mean_squared_error\n",
    "import matplotlib.pyplot as plt"
   ]
  },
  {
   "cell_type": "code",
   "execution_count": 9,
   "metadata": {},
   "outputs": [
    {
     "data": {
      "text/html": [
       "<div>\n",
       "<style scoped>\n",
       "    .dataframe tbody tr th:only-of-type {\n",
       "        vertical-align: middle;\n",
       "    }\n",
       "\n",
       "    .dataframe tbody tr th {\n",
       "        vertical-align: top;\n",
       "    }\n",
       "\n",
       "    .dataframe thead th {\n",
       "        text-align: right;\n",
       "    }\n",
       "</style>\n",
       "<table border=\"1\" class=\"dataframe\">\n",
       "  <thead>\n",
       "    <tr style=\"text-align: right;\">\n",
       "      <th></th>\n",
       "      <th>x1</th>\n",
       "      <th>x2</th>\n",
       "      <th>x3</th>\n",
       "      <th>x4</th>\n",
       "      <th>x5</th>\n",
       "      <th>x6</th>\n",
       "      <th>x7</th>\n",
       "      <th>x8</th>\n",
       "      <th>x9</th>\n",
       "      <th>x10</th>\n",
       "      <th>x11</th>\n",
       "      <th>x12</th>\n",
       "      <th>x13</th>\n",
       "      <th>Price</th>\n",
       "    </tr>\n",
       "  </thead>\n",
       "  <tbody>\n",
       "    <tr>\n",
       "      <th>0</th>\n",
       "      <td>0.034633</td>\n",
       "      <td>0.206919</td>\n",
       "      <td>0.137057</td>\n",
       "      <td>0.540526</td>\n",
       "      <td>0.193941</td>\n",
       "      <td>0.699239</td>\n",
       "      <td>0.630532</td>\n",
       "      <td>0.239410</td>\n",
       "      <td>0.027375</td>\n",
       "      <td>0.209857</td>\n",
       "      <td>0.347609</td>\n",
       "      <td>0.996394</td>\n",
       "      <td>0.102644</td>\n",
       "      <td>0.422222</td>\n",
       "    </tr>\n",
       "    <tr>\n",
       "      <th>1</th>\n",
       "      <td>0.028920</td>\n",
       "      <td>0.014315</td>\n",
       "      <td>0.276113</td>\n",
       "      <td>0.255945</td>\n",
       "      <td>0.618886</td>\n",
       "      <td>0.555407</td>\n",
       "      <td>0.782263</td>\n",
       "      <td>0.482977</td>\n",
       "      <td>0.103031</td>\n",
       "      <td>0.106690</td>\n",
       "      <td>0.520776</td>\n",
       "      <td>0.996650</td>\n",
       "      <td>0.187120</td>\n",
       "      <td>0.368889</td>\n",
       "    </tr>\n",
       "    <tr>\n",
       "      <th>2</th>\n",
       "      <td>0.020627</td>\n",
       "      <td>0.033230</td>\n",
       "      <td>0.281116</td>\n",
       "      <td>0.525591</td>\n",
       "      <td>0.165269</td>\n",
       "      <td>0.624102</td>\n",
       "      <td>0.586005</td>\n",
       "      <td>0.272713</td>\n",
       "      <td>0.036010</td>\n",
       "      <td>0.106986</td>\n",
       "      <td>0.595301</td>\n",
       "      <td>0.983284</td>\n",
       "      <td>0.084079</td>\n",
       "      <td>0.660000</td>\n",
       "    </tr>\n",
       "    <tr>\n",
       "      <th>3</th>\n",
       "      <td>0.022749</td>\n",
       "      <td>0.033801</td>\n",
       "      <td>0.125044</td>\n",
       "      <td>0.263253</td>\n",
       "      <td>0.251509</td>\n",
       "      <td>0.658532</td>\n",
       "      <td>0.432160</td>\n",
       "      <td>0.344932</td>\n",
       "      <td>0.150018</td>\n",
       "      <td>0.068317</td>\n",
       "      <td>0.651297</td>\n",
       "      <td>0.989989</td>\n",
       "      <td>0.015990</td>\n",
       "      <td>0.631111</td>\n",
       "    </tr>\n",
       "    <tr>\n",
       "      <th>4</th>\n",
       "      <td>0.022148</td>\n",
       "      <td>0.029374</td>\n",
       "      <td>0.121057</td>\n",
       "      <td>0.521126</td>\n",
       "      <td>0.399670</td>\n",
       "      <td>0.448086</td>\n",
       "      <td>0.520158</td>\n",
       "      <td>0.495342</td>\n",
       "      <td>0.104383</td>\n",
       "      <td>0.069360</td>\n",
       "      <td>0.560116</td>\n",
       "      <td>0.998723</td>\n",
       "      <td>0.092782</td>\n",
       "      <td>0.693333</td>\n",
       "    </tr>\n",
       "  </tbody>\n",
       "</table>\n",
       "</div>"
      ],
      "text/plain": [
       "         x1        x2        x3        x4        x5        x6        x7  \\\n",
       "0  0.034633  0.206919  0.137057  0.540526  0.193941  0.699239  0.630532   \n",
       "1  0.028920  0.014315  0.276113  0.255945  0.618886  0.555407  0.782263   \n",
       "2  0.020627  0.033230  0.281116  0.525591  0.165269  0.624102  0.586005   \n",
       "3  0.022749  0.033801  0.125044  0.263253  0.251509  0.658532  0.432160   \n",
       "4  0.022148  0.029374  0.121057  0.521126  0.399670  0.448086  0.520158   \n",
       "\n",
       "         x8        x9       x10       x11       x12       x13     Price  \n",
       "0  0.239410  0.027375  0.209857  0.347609  0.996394  0.102644  0.422222  \n",
       "1  0.482977  0.103031  0.106690  0.520776  0.996650  0.187120  0.368889  \n",
       "2  0.272713  0.036010  0.106986  0.595301  0.983284  0.084079  0.660000  \n",
       "3  0.344932  0.150018  0.068317  0.651297  0.989989  0.015990  0.631111  \n",
       "4  0.495342  0.104383  0.069360  0.560116  0.998723  0.092782  0.693333  "
      ]
     },
     "execution_count": 9,
     "metadata": {},
     "output_type": "execute_result"
    }
   ],
   "source": [
    "df = pd.read_csv('data/reg.csv', index_col=[0])\n",
    "\n",
    "df.head()"
   ]
  },
  {
   "cell_type": "code",
   "execution_count": 10,
   "metadata": {},
   "outputs": [
    {
     "data": {
      "text/plain": [
       "((506, 13), (506, 1))"
      ]
     },
     "execution_count": 10,
     "metadata": {},
     "output_type": "execute_result"
    }
   ],
   "source": [
    "X = df.drop('Price', axis=1).to_numpy()\n",
    "y = df['Price'].to_numpy().reshape((-1, 1))\n",
    "\n",
    "X.shape, y.shape "
   ]
  },
  {
   "cell_type": "code",
   "execution_count": 11,
   "metadata": {},
   "outputs": [],
   "source": [
    "class TensorDataset(Dataset):\n",
    "    def __init__(self, x, y) -> None:\n",
    "        self.x = torch.FloatTensor(x)\n",
    "        self.y = torch.FloatTensor(y)\n",
    "    \n",
    "    def __getitem__(self, index):\n",
    "        return self.x[index], self.y[index]\n",
    "    \n",
    "    def __len__(self):\n",
    "        return len(self.y)"
   ]
  },
  {
   "cell_type": "code",
   "execution_count": 12,
   "metadata": {},
   "outputs": [],
   "source": [
    "X_train, X_test, y_train, y_test = train_test_split(X, y, test_size=0.5)"
   ]
  },
  {
   "cell_type": "code",
   "execution_count": 13,
   "metadata": {},
   "outputs": [],
   "source": [
    "train_set = TensorDataset(X_train, y_train)\n",
    "test_set = TensorDataset(X_test, y_test)\n",
    "\n",
    "train_loader = DataLoader(train_set, batch_size=32, shuffle=True)\n",
    "test_loader = DataLoader(test_set, batch_size=32, shuffle=False)"
   ]
  },
  {
   "cell_type": "code",
   "execution_count": 15,
   "metadata": {},
   "outputs": [],
   "source": [
    "class Regressor(nn.Module):\n",
    "    def __init__(self) -> None:\n",
    "        super().__init__()\n",
    "        self.fc1 = nn.Linear(13, 50, bias=True)\n",
    "        self.fc2 = nn.Linear(50, 30, bias=True)\n",
    "        self.fc3 = nn.Linear(30, 1, bias=True)\n",
    "        self.dropout = nn.Dropout(0.2)\n",
    "\n",
    "    def forward(self, x):\n",
    "        x = F.relu(self.fc1(x))\n",
    "        x = F.relu(self.fc2(x))\n",
    "        x = self.dropout(x)\n",
    "        x = F.relu(self.fc3(x))\n",
    "        return x"
   ]
  },
  {
   "cell_type": "code",
   "execution_count": 17,
   "metadata": {},
   "outputs": [],
   "source": [
    "model = Regressor()\n",
    "criterion = nn.MSELoss()"
   ]
  },
  {
   "cell_type": "code",
   "execution_count": 5,
   "metadata": {},
   "outputs": [],
   "source": [
    "optimizer = torch.optim.SGD(model.parameters(), lr=0.01)"
   ]
  },
  {
   "cell_type": "code",
   "execution_count": 6,
   "metadata": {},
   "outputs": [],
   "source": [
    "optimizer = torch.optim.SGD(model.parameters(), lr=0.01, momentum=0.9)"
   ]
  },
  {
   "cell_type": "code",
   "execution_count": 7,
   "metadata": {},
   "outputs": [],
   "source": [
    "optimizer = torch.optim.Adam(model.parameters(), lr=0.01)"
   ]
  },
  {
   "cell_type": "code",
   "execution_count": 18,
   "metadata": {},
   "outputs": [],
   "source": [
    "optimizer = torch.optim.SGD(model.parameters(), lr=0.1, momentum=0.9)\n",
    "scheduler = torch.optim.lr_scheduler.StepLR(optimizer, step_size=30, gamma=0.1)"
   ]
  },
  {
   "cell_type": "code",
   "execution_count": 19,
   "metadata": {},
   "outputs": [
    {
     "name": "stdout",
     "output_type": "stream",
     "text": [
      "finished training\n"
     ]
    }
   ],
   "source": [
    "loss_ = []\n",
    "n = len(train_loader)\n",
    "epochs = 400\n",
    "\n",
    "for epoch in range(epochs):\n",
    "    running_loss = 0.0\n",
    "    \n",
    "    for i, data in enumerate(train_loader):\n",
    "        inputs, values = data\n",
    "        optimizer.zero_grad()\n",
    "        outputs = model(inputs)\n",
    "        loss = criterion(outputs, values)\n",
    "        loss.backward()\n",
    "        optimizer.step()\n",
    "\n",
    "        running_loss += loss.item()\n",
    "\n",
    "    loss_.append(running_loss/n)\n",
    "    scheduler.step()\n",
    "\n",
    "print('finished training')"
   ]
  },
  {
   "cell_type": "code",
   "execution_count": 20,
   "metadata": {},
   "outputs": [
    {
     "data": {
      "image/png": "[encoded data removed]",
      "text/plain": [
       "<Figure size 640x480 with 1 Axes>"
      ]
     },
     "metadata": {},
     "output_type": "display_data"
    }
   ],
   "source": [
    "plt.plot(loss_)\n",
    "plt.title('Training Loss')\n",
    "plt.xlabel('epoch')\n",
    "plt.ylabel('loss')\n",
    "plt.show()"
   ]
  },
  {
   "cell_type": "code",
   "execution_count": 21,
   "metadata": {},
   "outputs": [],
   "source": [
    "def evaluation(dataloader):\n",
    "    predictions = torch.tensor([], dtype=torch.float)\n",
    "    actual = torch.tensor([], dtype=torch.float)\n",
    "\n",
    "    with torch.inference_mode():\n",
    "        model.eval()\n",
    "        for data in dataloader:\n",
    "            inputs, values = data\n",
    "            outputs = model(inputs)\n",
    "\n",
    "            predictions = torch.cat((predictions, outputs), 0)\n",
    "            actual = torch.cat((actual, values), 0)\n",
    "\n",
    "    rmse = np.sqrt(mean_squared_error(predictions, actual))\n",
    "    return rmse"
   ]
  },
  {
   "cell_type": "code",
   "execution_count": 22,
   "metadata": {},
   "outputs": [
    {
     "name": "stdout",
     "output_type": "stream",
     "text": [
      "Train RMSE: 0.09892905\n",
      "Test RMSE: 0.10632222\n"
     ]
    }
   ],
   "source": [
    "train_rmse = evaluation(train_loader)\n",
    "test_rmse = evaluation(test_loader)\n",
    "\n",
    "print('Train RMSE:', train_rmse)\n",
    "print('Test RMSE:', test_rmse)"
   ]
  },
  {
   "cell_type": "code",
   "execution_count": null,
   "metadata": {},
   "outputs": [],
   "source": []
  }
 ],
 "metadata": {
  "kernelspec": {
   "display_name": "base",
   "language": "python",
   "name": "python3"
  },
  "language_info": {
   "codemirror_mode": {
    "name": "ipython",
    "version": 3
   },
   "file_extension": ".py",
   "mimetype": "text/x-python",
   "name": "python",
   "nbconvert_exporter": "python",
   "pygments_lexer": "ipython3",
   "version": "3.8.13"
  },
  "orig_nbformat": 4
 },
 "nbformat": 4,
 "nbformat_minor": 2
}
