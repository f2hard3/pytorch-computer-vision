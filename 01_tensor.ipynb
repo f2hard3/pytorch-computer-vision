{
 "cells": [
  {
   "cell_type": "code",
   "execution_count": 1,
   "metadata": {},
   "outputs": [],
   "source": [
    "import torch\n",
    "import numpy as np"
   ]
  },
  {
   "cell_type": "code",
   "execution_count": 2,
   "metadata": {},
   "outputs": [
    {
     "name": "stdout",
     "output_type": "stream",
     "text": [
      "tensor([[1.4974e-25, 4.5764e-41, 1.4974e-25, 4.5764e-41],\n",
      "        [4.8617e+30, 1.5766e-19, 3.5972e-12, 1.2873e+31],\n",
      "        [7.6814e+31, 9.3264e-09, 2.1707e-18, 3.0958e-18],\n",
      "        [4.1473e-08, 5.1380e+31, 3.3132e-18, 1.4062e-16],\n",
      "        [3.0963e-18, 5.1380e+31, 3.1095e-18, 9.8954e-03]])\n"
     ]
    }
   ],
   "source": [
    "x = torch.empty(5, 4)\n",
    "print(x)"
   ]
  },
  {
   "cell_type": "code",
   "execution_count": 3,
   "metadata": {},
   "outputs": [
    {
     "data": {
      "text/plain": [
       "tensor([[1., 1., 1.],\n",
       "        [1., 1., 1.],\n",
       "        [1., 1., 1.]])"
      ]
     },
     "execution_count": 3,
     "metadata": {},
     "output_type": "execute_result"
    }
   ],
   "source": [
    "torch.ones(3, 3)"
   ]
  },
  {
   "cell_type": "code",
   "execution_count": 4,
   "metadata": {},
   "outputs": [
    {
     "data": {
      "text/plain": [
       "tensor([0., 0.])"
      ]
     },
     "execution_count": 4,
     "metadata": {},
     "output_type": "execute_result"
    }
   ],
   "source": [
    "torch.zeros(2)"
   ]
  },
  {
   "cell_type": "code",
   "execution_count": 5,
   "metadata": {},
   "outputs": [
    {
     "data": {
      "text/plain": [
       "tensor([[0.8158, 0.3274, 0.7424, 0.2721, 0.7591, 0.2570],\n",
       "        [0.6824, 0.6425, 0.9734, 0.1545, 0.2603, 0.5879],\n",
       "        [0.6849, 0.5829, 0.1213, 0.0851, 0.2192, 0.1065],\n",
       "        [0.2551, 0.4559, 0.3573, 0.7961, 0.3420, 0.3911],\n",
       "        [0.3690, 0.8383, 0.9511, 0.7726, 0.7864, 0.1274]])"
      ]
     },
     "execution_count": 5,
     "metadata": {},
     "output_type": "execute_result"
    }
   ],
   "source": [
    "torch.rand(5, 6)"
   ]
  },
  {
   "cell_type": "code",
   "execution_count": 6,
   "metadata": {},
   "outputs": [
    {
     "data": {
      "text/plain": [
       "(torch.Size([8, 8]),\n",
       " tensor([[0.6194, 0.3089, 0.3798, 0.0714, 0.3727, 0.8564, 0.4030, 0.8040],\n",
       "         [0.3111, 0.7977, 0.2070, 0.9346, 0.7930, 0.2959, 0.9887, 0.1163],\n",
       "         [0.0938, 0.0639, 0.7850, 0.1821, 0.7157, 0.0171, 0.7203, 0.4248],\n",
       "         [0.8160, 0.3853, 0.0140, 0.1395, 0.1714, 0.9930, 0.5587, 0.9305],\n",
       "         [0.7473, 0.6313, 0.7576, 0.4306, 0.8122, 0.1671, 0.3558, 0.1364],\n",
       "         [0.7776, 0.7054, 0.1244, 0.2272, 0.2858, 0.4808, 0.4454, 0.7658],\n",
       "         [0.0045, 0.2442, 0.0536, 0.7826, 0.0038, 0.3633, 0.6354, 0.4090],\n",
       "         [0.7407, 0.1560, 0.9953, 0.3433, 0.6917, 0.1398, 0.4522, 0.6045]]))"
      ]
     },
     "execution_count": 6,
     "metadata": {},
     "output_type": "execute_result"
    }
   ],
   "source": [
    "x = torch.rand(8, 8)\n",
    "\n",
    "x.size(), x"
   ]
  },
  {
   "cell_type": "code",
   "execution_count": 13,
   "metadata": {},
   "outputs": [
    {
     "data": {
      "text/plain": [
       "(tensor([[0.6194, 0.3089, 0.3798, 0.0714, 0.3727, 0.8564, 0.4030, 0.8040, 0.3111,\n",
       "          0.7977, 0.2070, 0.9346, 0.7930, 0.2959, 0.9887, 0.1163, 0.0938, 0.0639,\n",
       "          0.7850, 0.1821, 0.7157, 0.0171, 0.7203, 0.4248, 0.8160, 0.3853, 0.0140,\n",
       "          0.1395, 0.1714, 0.9930, 0.5587, 0.9305],\n",
       "         [0.7473, 0.6313, 0.7576, 0.4306, 0.8122, 0.1671, 0.3558, 0.1364, 0.7776,\n",
       "          0.7054, 0.1244, 0.2272, 0.2858, 0.4808, 0.4454, 0.7658, 0.0045, 0.2442,\n",
       "          0.0536, 0.7826, 0.0038, 0.3633, 0.6354, 0.4090, 0.7407, 0.1560, 0.9953,\n",
       "          0.3433, 0.6917, 0.1398, 0.4522, 0.6045]]),\n",
       " torch.Size([2, 32]),\n",
       " tensor([0.6194, 0.3089, 0.3798, 0.0714, 0.3727, 0.8564, 0.4030, 0.8040, 0.3111,\n",
       "         0.7977, 0.2070, 0.9346, 0.7930, 0.2959, 0.9887, 0.1163, 0.0938, 0.0639,\n",
       "         0.7850, 0.1821, 0.7157, 0.0171, 0.7203, 0.4248, 0.8160, 0.3853, 0.0140,\n",
       "         0.1395, 0.1714, 0.9930, 0.5587, 0.9305, 0.7473, 0.6313, 0.7576, 0.4306,\n",
       "         0.8122, 0.1671, 0.3558, 0.1364, 0.7776, 0.7054, 0.1244, 0.2272, 0.2858,\n",
       "         0.4808, 0.4454, 0.7658, 0.0045, 0.2442, 0.0536, 0.7826, 0.0038, 0.3633,\n",
       "         0.6354, 0.4090, 0.7407, 0.1560, 0.9953, 0.3433, 0.6917, 0.1398, 0.4522,\n",
       "         0.6045]),\n",
       " torch.Size([64]))"
      ]
     },
     "execution_count": 13,
     "metadata": {},
     "output_type": "execute_result"
    }
   ],
   "source": [
    "a = x.view(2, 32)\n",
    "b = x.view(64)\n",
    "a, a.shape, b, b.size()"
   ]
  },
  {
   "cell_type": "code",
   "execution_count": 14,
   "metadata": {},
   "outputs": [
    {
     "data": {
      "text/plain": [
       "torch.Size([4, 4, 4])"
      ]
     },
     "execution_count": 14,
     "metadata": {},
     "output_type": "execute_result"
    }
   ],
   "source": [
    "b = x.view(-1, 4, 4)\n",
    "\n",
    "b.shape"
   ]
  },
  {
   "cell_type": "code",
   "execution_count": 16,
   "metadata": {},
   "outputs": [
    {
     "data": {
      "text/plain": [
       "numpy.ndarray"
      ]
     },
     "execution_count": 16,
     "metadata": {},
     "output_type": "execute_result"
    }
   ],
   "source": [
    "x = torch.rand(8, 8)\n",
    "y = x.numpy()\n",
    "\n",
    "type(y)"
   ]
  },
  {
   "cell_type": "code",
   "execution_count": 19,
   "metadata": {},
   "outputs": [
    {
     "data": {
      "text/plain": [
       "tensor([1., 1., 1., 1., 1.])"
      ]
     },
     "execution_count": 19,
     "metadata": {},
     "output_type": "execute_result"
    }
   ],
   "source": [
    "x = torch.ones(5)\n",
    "\n",
    "x"
   ]
  },
  {
   "cell_type": "code",
   "execution_count": 20,
   "metadata": {},
   "outputs": [
    {
     "ename": "ValueError",
     "evalue": "only one element tensors can be converted to Python scalars",
     "output_type": "error",
     "traceback": [
      "\u001b[0;31m---------------------------------------------------------------------------\u001b[0m",
      "\u001b[0;31mValueError\u001b[0m                                Traceback (most recent call last)",
      "\u001b[1;32m/root/workspace/pytorch-deep-learning/02_pytorch_basic.ipynb Cell 11\u001b[0m in \u001b[0;36m1\n\u001b[0;32m----> <a href='vscode-notebook-cell://attached-container%2B7b22636f6e7461696e65724e616d65223a222f7079746f7263685f3232767230333974222c2273657474696e6773223a7b22686f7374223a227373683a2f2f3135302e39332e3135322e3837227d7d/root/workspace/pytorch-deep-learning/02_pytorch_basic.ipynb#X13sdnNjb2RlLXJlbW90ZQ%3D%3D?line=0'>1</a>\u001b[0m x\u001b[39m.\u001b[39;49mitem()\n",
      "\u001b[0;31mValueError\u001b[0m: only one element tensors can be converted to Python scalars"
     ]
    }
   ],
   "source": [
    "x.item()"
   ]
  },
  {
   "cell_type": "code",
   "execution_count": 26,
   "metadata": {},
   "outputs": [
    {
     "data": {
      "text/plain": [
       "1.0"
      ]
     },
     "execution_count": 26,
     "metadata": {},
     "output_type": "execute_result"
    }
   ],
   "source": [
    "x = torch.ones(1)\n",
    "\n",
    "x.item()"
   ]
  },
  {
   "cell_type": "code",
   "execution_count": null,
   "metadata": {},
   "outputs": [],
   "source": []
  }
 ],
 "metadata": {
  "kernelspec": {
   "display_name": "base",
   "language": "python",
   "name": "python3"
  },
  "language_info": {
   "codemirror_mode": {
    "name": "ipython",
    "version": 3
   },
   "file_extension": ".py",
   "mimetype": "text/x-python",
   "name": "python",
   "nbconvert_exporter": "python",
   "pygments_lexer": "ipython3",
   "version": "3.8.13"
  },
  "orig_nbformat": 4
 },
 "nbformat": 4,
 "nbformat_minor": 2
}
